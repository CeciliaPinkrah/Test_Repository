{
 "cells": [
  {
   "cell_type": "markdown",
   "id": "1dff1392-973b-4e2f-8182-cbb0f5a17efe",
   "metadata": {},
   "source": [
    "# Q1\n",
    "\n",
    "Print the natural numbers from 1 to 10"
   ]
  },
  {
   "cell_type": "code",
   "execution_count": 14,
   "id": "4229abbb",
   "metadata": {},
   "outputs": [],
   "source": [
    "natural_numbers = [1, 2, 3, 4, 5, 6, 7, 8, 9, 10]"
   ]
  },
  {
   "cell_type": "code",
   "execution_count": 15,
   "id": "3fd488c2",
   "metadata": {},
   "outputs": [
    {
     "name": "stdout",
     "output_type": "stream",
     "text": [
      "1\n",
      "2\n",
      "3\n",
      "4\n",
      "5\n",
      "6\n",
      "7\n",
      "8\n",
      "9\n",
      "10\n"
     ]
    }
   ],
   "source": [
    "for i in natural_numbers:\n",
    "    print (i)"
   ]
  },
  {
   "cell_type": "markdown",
   "id": "8b302e2f-68e3-4e62-839c-d295ee1dfa6e",
   "metadata": {},
   "source": [
    "# Q2\n",
    "Write a code that takes a number from a user, and prints out \"Even\" if the number is an even number, else it prints \"Odd\""
   ]
  },
  {
   "cell_type": "code",
   "execution_count": 5,
   "id": "6f81de3e",
   "metadata": {},
   "outputs": [
    {
     "name": "stdout",
     "output_type": "stream",
     "text": [
      "Enter a number 89.5\n",
      "Odd\n"
     ]
    }
   ],
   "source": [
    "x = int(float(input('Enter a number ')))\n",
    "\n",
    "if x % 2 == 0:\n",
    "    print ('Even')\n",
    "else:\n",
    "    print ('Odd')\n"
   ]
  },
  {
   "cell_type": "markdown",
   "id": "d234c056-2c91-40e4-926a-ec9187c0112d",
   "metadata": {},
   "source": [
    "# Q3\n",
    "\n",
    "Write a program that ask for the CWA/GPA score of a student, and assigns \"Distinction\" if the score is between 80 and 100 inclusively, \"Very Good Pass \" if the score is between 75 and 79 inclusively, \"Good Pass\" if the score is between 70 and 74 inclusively, \"Pass\" if the score is between 60 and 69 inclusively, and \"Fail\" if the score is below 60."
   ]
  },
  {
   "cell_type": "code",
   "execution_count": null,
   "id": "305ec143",
   "metadata": {},
   "outputs": [],
   "source": [
    "GPA = float(input('Enter your score '))\n",
    "\n",
    "Distinction = 80\n",
    "Very_Good_Pass = 75\n",
    "Good_Pass = 70\n",
    "Pass = 60\n",
    "Fail = 0\n",
    "\n",
    "if GPA >= Distinction:\n",
    "    print ('Distinction')\n",
    "\n",
    "elif GPA >= Very_Good_Pass:\n",
    "    print ('Very Good Pass')\n",
    "    \n",
    "elif GPA >= Good_Pass:\n",
    "    print ('Good Pass')\n",
    "    \n",
    "elif GPA >= Pass:\n",
    "    print ('Pass')\n",
    "    \n",
    "else:\n",
    "    GPA >= Fail\n",
    "    print ('Fail')"
   ]
  },
  {
   "cell_type": "markdown",
   "id": "661b0a44-ce61-4021-93b3-96b61e926f96",
   "metadata": {},
   "source": [
    "# Q4\n",
    "\n",
    "Write a program to print the square and cube of all even numbers and odd numbers respectively in the natural numbers from 1 to 20. That is to say; counting from 1 to 20, if a number is even, print the square of that number, and if the number is odd, print the cube of that number."
   ]
  },
  {
   "cell_type": "code",
   "execution_count": 25,
   "id": "f697c8a0",
   "metadata": {},
   "outputs": [
    {
     "name": "stdout",
     "output_type": "stream",
     "text": [
      "1\n",
      "4\n",
      "27\n",
      "16\n",
      "125\n",
      "36\n",
      "343\n",
      "64\n",
      "729\n",
      "100\n",
      "1331\n",
      "144\n",
      "2197\n",
      "196\n",
      "3375\n",
      "256\n",
      "4913\n",
      "324\n",
      "6859\n",
      "400\n"
     ]
    }
   ],
   "source": [
    "natural_numbers = [1, 2, 3, 4, 5, 6, 7, 8, 9, 10, 11, 12, 13, 14, 15, 16, 17, 18, 19, 20]\n",
    "\n",
    "for i in natural_numbers:\n",
    "    if i%2 == 0:\n",
    "        print(i**2)\n",
    "    \n",
    "    elif i%2 == 1:\n",
    "        print (i**3)"
   ]
  },
  {
   "cell_type": "markdown",
   "id": "167abf18-3fd3-4be5-98d2-d560ff8c6acc",
   "metadata": {},
   "source": [
    "# Q5\n",
    "\n",
    "Write a program that prints all the divisors of a number inputed by a user"
   ]
  },
  {
   "cell_type": "code",
   "execution_count": null,
   "id": "47ba5c72",
   "metadata": {},
   "outputs": [],
   "source": [
    "number = int(input('Enter a number '))\n",
    "\n",
    "for x in range(1,number+1):\n",
    "    if number%x == 0:\n",
    "        print (x)\n",
    " "
   ]
  },
  {
   "cell_type": "markdown",
   "id": "aa7aedef-1090-4382-ac49-0265ebf8d530",
   "metadata": {},
   "source": [
    "# Q6\n",
    "\n",
    "Write a code that takes a number from a user a prints out the factorial(!) of that number.\n",
    "\n",
    "**Note:**:\n",
    "\n",
    "2! = 2 *1\n",
    "\n",
    "3! = 3 * 2 * 1\n",
    "\n",
    "4! = 4 * 3 * 2 * 1\n",
    "\n",
    "5! = 5 * 4 * 3 * 2 * 1\n",
    "\n",
    "I hope you get the idea"
   ]
  },
  {
   "cell_type": "code",
   "execution_count": 2,
   "id": "7d447d74",
   "metadata": {},
   "outputs": [
    {
     "name": "stdout",
     "output_type": "stream",
     "text": [
      "Enter a number -4\n",
      "24\n"
     ]
    }
   ],
   "source": [
    "x = abs(int(input('Enter a number ')))\n",
    "factorial = 1\n",
    "if  x==0:\n",
    "    print ('The factorial is 1')\n",
    "\n",
    "else:\n",
    "     for i in range(1, x+1):\n",
    "            factorial = factorial*i\n",
    "print(factorial)\n"
   ]
  },
  {
   "cell_type": "markdown",
   "id": "d0ebfe87-6cbf-46f9-9f11-55c0f1464561",
   "metadata": {},
   "source": [
    "# Q7\n",
    "\n",
    "Write a program that ask a user to guess a secret alphabet between a and p. The program should keep prompting the user to guess an alphabet, until he/she guesses the correct alphabet. At the moment (s)he guesses the secret alphabet correctly, the program should prints out \"Congratulations, you have guessed the alphabet right\" and then terminate from the loop"
   ]
  },
  {
   "cell_type": "code",
   "execution_count": 2,
   "id": "afcdf8da-bed9-4167-801d-d9c101b5e40b",
   "metadata": {},
   "outputs": [
    {
     "name": "stdout",
     "output_type": "stream",
     "text": [
      "Enter the secret alphabet between a and p: h\n",
      " Enter the secret alphabet between a and p: n\n",
      "Congratulations, you have guessed the alphabet right.\n"
     ]
    }
   ],
   "source": [
    "correct_password = 'n'\n",
    "secret_alphabet = input('Enter the secret alphabet between a and p: ')\n",
    "\n",
    "while secret_alphabet == correct_password:\n",
    "    print ('Congratulations, you have guessed the alphabet right.')\n",
    "    break\n",
    "\n",
    "if secret_alphabet != correct_password:\n",
    "    \n",
    "    input(' Enter the secret alphabet between a and p: ')\n",
    "    \n",
    "else:\n",
    "    secret_alphabet == correct_password\n",
    "    \n",
    "print ('Congratulations, you have guessed the alphabet right.')\n"
   ]
  },
  {
   "cell_type": "code",
   "execution_count": null,
   "id": "a758b503",
   "metadata": {},
   "outputs": [],
   "source": []
  },
  {
   "cell_type": "code",
   "execution_count": 2,
   "id": "2f17e1bf",
   "metadata": {},
   "outputs": [
    {
     "name": "stdout",
     "output_type": "stream",
     "text": [
      "Enter a number : 9\n",
      "362880\n"
     ]
    }
   ],
   "source": [
    "num = int(input('Enter a number : '))\n",
    "factorial = 1\n",
    "\n",
    "while num > 1:\n",
    "    factorial *= num\n",
    "    num -=1\n",
    "print( factorial)"
   ]
  },
  {
   "cell_type": "code",
   "execution_count": null,
   "id": "1f438899",
   "metadata": {},
   "outputs": [],
   "source": [
    "4\n"
   ]
  }
 ],
 "metadata": {
  "kernelspec": {
   "display_name": "Python 3 (ipykernel)",
   "language": "python",
   "name": "python3"
  },
  "language_info": {
   "codemirror_mode": {
    "name": "ipython",
    "version": 3
   },
   "file_extension": ".py",
   "mimetype": "text/x-python",
   "name": "python",
   "nbconvert_exporter": "python",
   "pygments_lexer": "ipython3",
   "version": "3.11.5"
  }
 },
 "nbformat": 4,
 "nbformat_minor": 5
}
